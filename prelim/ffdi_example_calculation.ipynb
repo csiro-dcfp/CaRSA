{
 "cells": [
  {
   "cell_type": "markdown",
   "metadata": {},
   "source": [
    "# McArthur Forest Fire Danger Index (FFDI) computation\n",
    "\n",
    "Doug Richardson (CSIRO): doug.richardson@csiro.au"
   ]
  },
  {
   "cell_type": "markdown",
   "metadata": {},
   "source": [
    "This notebook details how we compute the FFDI from model data (either the JRA reanalysis or ACCESS-D hindcasts) for our work. We use the formula provided in Dowdy (2018) https://journals.ametsoc.org/view/journals/apme/57/2/jamc-d-17-0167.1.xml, with the following differences:\n",
    "\n",
    "- The drought factor is not calculated using the Keetch-Byram Drought Index (KBDI), as the procedure for the computing the KBDI is rather involved and empirical. We use 20-day accumulated rainfall instead.\n",
    "- We do not calibrate our wind speed data in the same way as Dowdy (2018), who used 10-minute NWP forecasts to calibrate mid-afternoon wind speed. We instead use daily max wind speed from JRA, or daily mean wind speed from ACCESS-D (as there is no max wind speed in that data set).\n",
    "- We can take relative humidity from the model directly, rather than having to estimate it using vapour pressure. We use mid-afternoon (0600 UTC) relative humidity from JRA, but Dougie uses daily mean relative humidity in his work as that's what's available in ACCESS-D. For the same reason, Dougie uses relative humidity at 1000 hPa rather than at the surface."
   ]
  },
  {
   "cell_type": "markdown",
   "metadata": {},
   "source": [
    "## FFDI variables:\n",
    "- daily mean or mid-afternoon relative humidity at 2 m or 1000 hPa ($H$)\n",
    "- daily max or mean 10 m wind speed ($W$)\n",
    "- daily max 2 m temperature ($T$)\n",
    "- drought factor ($D$)"
   ]
  },
  {
   "cell_type": "markdown",
   "metadata": {},
   "source": [
    "## FFDI formula:\n",
    "## $$\\mathit{FFDI} = D^{0.987} \\cdot \\mbox{exp}(0.0338T - 0.0345H + 0.0234W + 0.243147)$$"
   ]
  },
  {
   "cell_type": "markdown",
   "metadata": {},
   "source": [
    "# Code for calculating the FFDI using the JRA reanalysis"
   ]
  },
  {
   "cell_type": "code",
   "execution_count": 1,
   "metadata": {},
   "outputs": [],
   "source": [
    "import xarray as xr\n",
    "import numpy as np"
   ]
  },
  {
   "cell_type": "markdown",
   "metadata": {},
   "source": [
    "## Load JRA data"
   ]
  },
  {
   "cell_type": "code",
   "execution_count": 3,
   "metadata": {},
   "outputs": [],
   "source": [
    "jra_ds = xr.open_zarr('jra_surface_daily.zarr', consolidated=True)"
   ]
  },
  {
   "cell_type": "code",
   "execution_count": 18,
   "metadata": {},
   "outputs": [],
   "source": [
    "jra_ds = jra_ds.rename({'initial_time0_hours': 'time'})"
   ]
  },
  {
   "cell_type": "code",
   "execution_count": 49,
   "metadata": {},
   "outputs": [
    {
     "data": {
      "text/plain": [
       "Data variables:\n",
       "    DEPR_GDS0_HTGL   (time, g0_lat_1, g0_lon_2) float32 dask.array<chunksize=(731, 145, 288), meta=np.ndarray>\n",
       "    POT_GDS0_SFC     (time, g0_lat_1, g0_lon_2) float32 dask.array<chunksize=(731, 145, 288), meta=np.ndarray>\n",
       "    PRES_GDS0_SFC    (time, g0_lat_1, g0_lon_2) float32 dask.array<chunksize=(731, 145, 288), meta=np.ndarray>\n",
       "    PRMSL_GDS0_MSL   (time, g0_lat_1, g0_lon_2) float32 dask.array<chunksize=(731, 145, 288), meta=np.ndarray>\n",
       "    RH_GDS0_HTGL     (time, g0_lat_1, g0_lon_2) float32 dask.array<chunksize=(731, 145, 288), meta=np.ndarray>\n",
       "    SPFH_GDS0_HTGL   (time, g0_lat_1, g0_lon_2) float32 dask.array<chunksize=(731, 145, 288), meta=np.ndarray>\n",
       "    SoilW_GDS0_ULN   (time, lv_ULN1, g0_lat_2, g0_lon_3) float32 dask.array<chunksize=(731, 1, 145, 288), meta=np.ndarray>\n",
       "    TMAX_GDS4_HTGL   (time, g0_lat_1, g0_lon_2) float32 dask.array<chunksize=(731, 145, 288), meta=np.ndarray>\n",
       "    TMP_GDS0_HTGL    (time, g0_lat_1, g0_lon_2) float32 dask.array<chunksize=(731, 145, 288), meta=np.ndarray>\n",
       "    TPRAT_GDS0_SFC   (time, g0_lat_2, g0_lon_3) float32 dask.array<chunksize=(731, 145, 288), meta=np.ndarray>\n",
       "    UGRD_GDS0_HTGL   (time, g0_lat_1, g0_lon_2) float32 dask.array<chunksize=(731, 145, 288), meta=np.ndarray>\n",
       "    ULWRF_GDS0_NTAT  (time, g0_lat_2, g0_lon_3) float32 dask.array<chunksize=(731, 145, 288), meta=np.ndarray>\n",
       "    ULWRF_GDS0_SFC   (time, g0_lat_2, g0_lon_3) float32 dask.array<chunksize=(731, 145, 288), meta=np.ndarray>\n",
       "    VGRD_GDS0_HTGL   (time, g0_lat_1, g0_lon_2) float32 dask.array<chunksize=(731, 145, 288), meta=np.ndarray>\n",
       "    WSMX_GDS4_HTGL   (time, g0_lat_1, g0_lon_2) float32 dask.array<chunksize=(731, 145, 288), meta=np.ndarray>"
      ]
     },
     "execution_count": 49,
     "metadata": {},
     "output_type": "execute_result"
    }
   ],
   "source": [
    "jra_ds.data_vars"
   ]
  },
  {
   "cell_type": "markdown",
   "metadata": {},
   "source": [
    "## Compute the drought factor, $D$"
   ]
  },
  {
   "cell_type": "markdown",
   "metadata": {},
   "source": [
    "#### Get precipitation"
   ]
  },
  {
   "cell_type": "code",
   "execution_count": 20,
   "metadata": {},
   "outputs": [],
   "source": [
    "jra_precip = jra_ds['TPRAT_GDS0_SFC']"
   ]
  },
  {
   "cell_type": "markdown",
   "metadata": {},
   "source": [
    "#### Calculate 20-day accumulated precipitation"
   ]
  },
  {
   "cell_type": "code",
   "execution_count": 22,
   "metadata": {},
   "outputs": [],
   "source": [
    "jra_precip_20 = jra_precip.rolling(time=20).sum()"
   ]
  },
  {
   "cell_type": "markdown",
   "metadata": {},
   "source": [
    "#### Using the following formula, scale this quantity to lie between 0 and 10, with larger values indicating lower 20-day precipitation totals.\n",
    "\n",
    "$$-10 \\cdot \\frac{x_i - \\min(x)}{\\max(x)-\\min(x)} + 10.$$"
   ]
  },
  {
   "cell_type": "code",
   "execution_count": 23,
   "metadata": {},
   "outputs": [],
   "source": [
    "df = -10 * ((jra_precip_20 - jra_precip_20.min(dim='time')) / (jra_precip_20.max(dim='time') - jra_precip_20.min(dim='time'))) + 10"
   ]
  },
  {
   "cell_type": "markdown",
   "metadata": {},
   "source": [
    "## Get relative humidity, max temperature and max wind"
   ]
  },
  {
   "cell_type": "code",
   "execution_count": null,
   "metadata": {},
   "outputs": [],
   "source": [
    "rh = jra_ds['RH_GDS0_HTGL']\n",
    "tmax = jra_ds['TMAX_GDS4_HTGL']\n",
    "wmax = jra_ds['WSMX_GDS4_HTGL']"
   ]
  },
  {
   "cell_type": "markdown",
   "metadata": {},
   "source": [
    "#### Convert temperature from K to C"
   ]
  },
  {
   "cell_type": "code",
   "execution_count": 33,
   "metadata": {},
   "outputs": [],
   "source": [
    "tmax = tmax - 273.15"
   ]
  },
  {
   "cell_type": "markdown",
   "metadata": {},
   "source": [
    "#### Convert wind speed from m/s to km/h"
   ]
  },
  {
   "cell_type": "code",
   "execution_count": 34,
   "metadata": {},
   "outputs": [],
   "source": [
    "wmax = wmax * 3.6"
   ]
  },
  {
   "cell_type": "markdown",
   "metadata": {},
   "source": [
    "## Calculate FFDI"
   ]
  },
  {
   "cell_type": "code",
   "execution_count": 36,
   "metadata": {},
   "outputs": [],
   "source": [
    "ffdi = df**0.987 * np.exp(0.0338*tmax - 0.0345*rh + 0.0234*wmax + 0.243147)"
   ]
  }
 ],
 "metadata": {
  "kernelspec": {
   "display_name": "Python 3",
   "language": "python",
   "name": "python3"
  },
  "language_info": {
   "codemirror_mode": {
    "name": "ipython",
    "version": 3
   },
   "file_extension": ".py",
   "mimetype": "text/x-python",
   "name": "python",
   "nbconvert_exporter": "python",
   "pygments_lexer": "ipython3",
   "version": "3.8.6"
  }
 },
 "nbformat": 4,
 "nbformat_minor": 4
}
