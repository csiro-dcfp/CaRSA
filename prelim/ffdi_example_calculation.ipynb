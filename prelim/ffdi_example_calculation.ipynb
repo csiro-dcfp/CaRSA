{
 "cells": [
  {
   "cell_type": "markdown",
   "metadata": {},
   "source": [
    "# McArthur Forest Fire Danger Index (FFDI) computation\n",
    "\n",
    "Doug Richardson (CSIRO): doug.richardson@csiro.au"
   ]
  },
  {
   "cell_type": "markdown",
   "metadata": {},
   "source": [
    "This notebook details how we compute the FFDI from model data (either the JRA reanalysis or ACCESS-D hindcasts) for our work. We use the formula provided in Dowdy (2018) https://journals.ametsoc.org/view/journals/apme/57/2/jamc-d-17-0167.1.xml, with the following differences:\n",
    "\n",
    "- The drought factor is not calculated using the Keetch-Byram Drought Index (KBDI), as the procedure for the computing the KBDI is rather involved and empirical. We use 20-day accumulated rainfall instead.\n",
    "- We do not calibrate our wind speed data in the same way as Dowdy (2018), who used 10-minute NWP forecasts to calibrate mid-afternoon wind speed. We instead use daily max wind speed from JRA, or daily mean wind speed from ACCESS-D (as there is no max wind speed in that data set).\n",
    "- We can take relative humidity from the model directly, rather than having to estimate it using vapour pressure. We use mid-afternoon (0600 UTC) relative humidity from JRA, but Dougie uses daily mean relative humidity in his work as that's what's available in ACCESS-D. For the same reason, Dougie uses relative humidity at 1000 hPa rather than at the surface."
   ]
  },
  {
   "cell_type": "markdown",
   "metadata": {},
   "source": [
    "## FFDI variables:\n",
    "- daily mean or mid-afternoon relative humidity at 2 m or 1000 hPa ($H$)\n",
    "- daily max or mean 10 m wind speed ($W$)\n",
    "- daily max 2 m temperature ($T$)\n",
    "- drought factor ($D$)"
   ]
  },
  {
   "cell_type": "markdown",
   "metadata": {},
   "source": [
    "## FFDI formula:\n",
    "## $$\\mathit{FFDI} = D^{0.987} \\cdot \\mbox{exp}(0.0338T - 0.0345H + 0.0234W + 0.243147)$$\n",
    "\n",
    "where here $D$ is the 20-day accumulated rainfall, $p_{20}$, scaled to lie between 0 and 10 (Richardson et al. 2021):\n",
    "\n",
    "## $$D = -10 \\cdot \\frac{p_{20} - \\min(p_{20})}{\\max(p_{20})-\\min(p_{20})} + 10.$$"
   ]
  },
  {
   "cell_type": "markdown",
   "metadata": {},
   "source": [
    "# Code for calculating the FFDI using the JRA reanalysis"
   ]
  },
  {
   "cell_type": "code",
   "execution_count": 1,
   "metadata": {},
   "outputs": [],
   "source": [
    "import xarray as xr\n",
    "import numpy as np\n",
    "import carsa"
   ]
  },
  {
   "cell_type": "markdown",
   "metadata": {},
   "source": [
    "## Load JRA data"
   ]
  },
  {
   "cell_type": "code",
   "execution_count": 2,
   "metadata": {},
   "outputs": [],
   "source": [
    "jra_ds = xr.open_zarr('jra_surface_daily.zarr', consolidated=True)"
   ]
  },
  {
   "cell_type": "code",
   "execution_count": 3,
   "metadata": {},
   "outputs": [],
   "source": [
    "jra_ds = jra_ds.rename({'initial_time0_hours': 'time'})"
   ]
  },
  {
   "cell_type": "code",
   "execution_count": 4,
   "metadata": {},
   "outputs": [
    {
     "data": {
      "text/plain": [
       "Data variables:\n",
       "    DEPR_GDS0_HTGL   (time, g0_lat_1, g0_lon_2) float32 dask.array<chunksize=(731, 145, 288), meta=np.ndarray>\n",
       "    POT_GDS0_SFC     (time, g0_lat_1, g0_lon_2) float32 dask.array<chunksize=(731, 145, 288), meta=np.ndarray>\n",
       "    PRES_GDS0_SFC    (time, g0_lat_1, g0_lon_2) float32 dask.array<chunksize=(731, 145, 288), meta=np.ndarray>\n",
       "    PRMSL_GDS0_MSL   (time, g0_lat_1, g0_lon_2) float32 dask.array<chunksize=(731, 145, 288), meta=np.ndarray>\n",
       "    RH_GDS0_HTGL     (time, g0_lat_1, g0_lon_2) float32 dask.array<chunksize=(731, 145, 288), meta=np.ndarray>\n",
       "    SPFH_GDS0_HTGL   (time, g0_lat_1, g0_lon_2) float32 dask.array<chunksize=(731, 145, 288), meta=np.ndarray>\n",
       "    SoilW_GDS0_ULN   (time, lv_ULN1, g0_lat_2, g0_lon_3) float32 dask.array<chunksize=(731, 1, 145, 288), meta=np.ndarray>\n",
       "    TMAX_GDS4_HTGL   (time, g0_lat_1, g0_lon_2) float32 dask.array<chunksize=(731, 145, 288), meta=np.ndarray>\n",
       "    TMP_GDS0_HTGL    (time, g0_lat_1, g0_lon_2) float32 dask.array<chunksize=(731, 145, 288), meta=np.ndarray>\n",
       "    TPRAT_GDS0_SFC   (time, g0_lat_2, g0_lon_3) float32 dask.array<chunksize=(731, 145, 288), meta=np.ndarray>\n",
       "    UGRD_GDS0_HTGL   (time, g0_lat_1, g0_lon_2) float32 dask.array<chunksize=(731, 145, 288), meta=np.ndarray>\n",
       "    ULWRF_GDS0_NTAT  (time, g0_lat_2, g0_lon_3) float32 dask.array<chunksize=(731, 145, 288), meta=np.ndarray>\n",
       "    ULWRF_GDS0_SFC   (time, g0_lat_2, g0_lon_3) float32 dask.array<chunksize=(731, 145, 288), meta=np.ndarray>\n",
       "    VGRD_GDS0_HTGL   (time, g0_lat_1, g0_lon_2) float32 dask.array<chunksize=(731, 145, 288), meta=np.ndarray>\n",
       "    WSMX_GDS4_HTGL   (time, g0_lat_1, g0_lon_2) float32 dask.array<chunksize=(731, 145, 288), meta=np.ndarray>"
      ]
     },
     "execution_count": 4,
     "metadata": {},
     "output_type": "execute_result"
    }
   ],
   "source": [
    "jra_ds.data_vars"
   ]
  },
  {
   "cell_type": "markdown",
   "metadata": {},
   "source": [
    "## Prep data and compute FFDI"
   ]
  },
  {
   "cell_type": "code",
   "execution_count": 5,
   "metadata": {},
   "outputs": [
    {
     "data": {
      "text/plain": [
       "\u001b[0;31mSignature:\u001b[0m \u001b[0mcarsa\u001b[0m\u001b[0;34m.\u001b[0m\u001b[0mFFDI\u001b[0m\u001b[0;34m(\u001b[0m\u001b[0mprecip\u001b[0m\u001b[0;34m,\u001b[0m \u001b[0mrh\u001b[0m\u001b[0;34m,\u001b[0m \u001b[0mtmax\u001b[0m\u001b[0;34m,\u001b[0m \u001b[0mwmax\u001b[0m\u001b[0;34m,\u001b[0m \u001b[0mtime_dim\u001b[0m\u001b[0;34m=\u001b[0m\u001b[0;34m'time'\u001b[0m\u001b[0;34m)\u001b[0m\u001b[0;34m\u001b[0m\u001b[0;34m\u001b[0m\u001b[0m\n",
       "\u001b[0;31mDocstring:\u001b[0m\n",
       "Returns the McArthur Forest Fire Danger Index following the formula provided in Dowdy (2018):\n",
       "FFDI = D ** 0.987 * exp (0.0338 * T - 0.0345 * H + 0.0234 * W + 0.243147)\n",
       "\n",
       "Parameters\n",
       "----------\n",
       "precip : xarray DataArray\n",
       "    Daily total precipitation [mm]. This is used to estimate the drought factor, D, as the 20-day accumulated rainfall\n",
       "    scaled to lie between 0 and 10, with larger values indicating less precipitation.\n",
       "rh : xarray DataArray\n",
       "    Daily max relative humidity at 2m [%] (or similar, depending on data availability). Richardson et al. uses mid-afternoon\n",
       "    relative humidity at 2 m, Squire et al. (2021) uses daily mean relative humidity at 1000 hPa. This is used as H in the\n",
       "    above equation.\n",
       "tmax : xarray DataArray\n",
       "    Daily max 2 m temperature [deg C].\n",
       "wmax : xarray DataArray\n",
       "    Daily max 10 m wind speed [km/h] (or similar, depending on data availability). Squire et al. (2021) uses daily mean wind speed.\n",
       "time_dim : str, optional\n",
       "    Name of the time dimension\n",
       "    \n",
       "Returns\n",
       "-------\n",
       "FFDI : xarray DataArray\n",
       "    Array containing the FFDI.\n",
       "\u001b[0;31mFile:\u001b[0m      /OSM/CBR/OA_DCFP/work/squ027/active_projects/CaRSA/prelim/carsa.py\n",
       "\u001b[0;31mType:\u001b[0m      function\n"
      ]
     },
     "metadata": {},
     "output_type": "display_data"
    }
   ],
   "source": [
    "carsa.FFDI?"
   ]
  },
  {
   "cell_type": "code",
   "execution_count": 6,
   "metadata": {},
   "outputs": [
    {
     "name": "stdout",
     "output_type": "stream",
     "text": [
      "<xarray.DataArray (time: 23011, lat: 145, lon: 288)>\n",
      "dask.array<mul, shape=(23011, 145, 288), dtype=float32, chunksize=(721, 145, 288), chunktype=numpy.ndarray>\n",
      "Coordinates:\n",
      "  * lat      (lat) float32 90.0 88.75 87.5 86.25 ... -86.25 -87.5 -88.75 -90.0\n",
      "  * lon      (lon) float32 0.0 1.25 2.5 3.75 5.0 ... 355.0 356.25 357.5 358.75\n",
      "  * time     (time) datetime64[ns] 1958-01-01T09:00:00 ... 2020-12-31T09:00:00\n"
     ]
    }
   ],
   "source": [
    "precip = jra_ds['TPRAT_GDS0_SFC'].rename({'g0_lat_2': 'lat', 'g0_lon_3': 'lon'})\n",
    "rh = jra_ds['RH_GDS0_HTGL'].rename({'g0_lat_1': 'lat', 'g0_lon_2': 'lon'})\n",
    "tmax = jra_ds['TMAX_GDS4_HTGL'].rename({'g0_lat_1': 'lat', 'g0_lon_2': 'lon'}) - 273.15 # convert to deg C\n",
    "wmax = jra_ds['WSMX_GDS4_HTGL'].rename({'g0_lat_1': 'lat', 'g0_lon_2': 'lon'}) * 3.6 # convert to km/h\n",
    "\n",
    "FFDI = carsa.FFDI(precip, rh, tmax, wmax)\n",
    "print(FFDI)"
   ]
  }
 ],
 "metadata": {
  "kernelspec": {
   "display_name": "Python 3",
   "language": "python",
   "name": "python3"
  },
  "language_info": {
   "codemirror_mode": {
    "name": "ipython",
    "version": 3
   },
   "file_extension": ".py",
   "mimetype": "text/x-python",
   "name": "python",
   "nbconvert_exporter": "python",
   "pygments_lexer": "ipython3",
   "version": "3.8.5"
  }
 },
 "nbformat": 4,
 "nbformat_minor": 4
}
